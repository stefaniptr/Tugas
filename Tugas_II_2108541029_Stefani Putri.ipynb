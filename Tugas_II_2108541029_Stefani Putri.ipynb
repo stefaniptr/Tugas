{
 "cells": [
  {
   "cell_type": "code",
   "execution_count": null,
   "id": "7ea694b7",
   "metadata": {},
   "outputs": [],
   "source": [
    "buah = ['sirsak', 'mangga', 'melon', 'leci'] \n",
    "print (buah)"
   ]
  },
  {
   "cell_type": "code",
   "execution_count": null,
   "id": "08239422",
   "metadata": {},
   "outputs": [],
   "source": [
    "print (buah[2])"
   ]
  },
  {
   "cell_type": "code",
   "execution_count": null,
   "id": "a5b15e5f",
   "metadata": {},
   "outputs": [],
   "source": [
    "print (buah[0])"
   ]
  },
  {
   "cell_type": "code",
   "execution_count": null,
   "id": "aa760745",
   "metadata": {},
   "outputs": [],
   "source": [
    "print (buah[-2])"
   ]
  },
  {
   "cell_type": "code",
   "execution_count": null,
   "id": "f5207dbd",
   "metadata": {},
   "outputs": [],
   "source": [
    "print (buah[-1])"
   ]
  },
  {
   "cell_type": "code",
   "execution_count": null,
   "id": "f92a1638",
   "metadata": {},
   "outputs": [],
   "source": [
    "buah[0] = 'melon'\n",
    "print (buah)"
   ]
  },
  {
   "cell_type": "code",
   "execution_count": null,
   "id": "f331d0db",
   "metadata": {},
   "outputs": [],
   "source": [
    "print (buah[0:3])"
   ]
  },
  {
   "cell_type": "code",
   "execution_count": null,
   "id": "1a31e044",
   "metadata": {},
   "outputs": [],
   "source": [
    "# tidak merubah List\n",
    "print (buah)"
   ]
  },
  {
   "cell_type": "code",
   "execution_count": null,
   "id": "6617d1f2",
   "metadata": {},
   "outputs": [],
   "source": [
    "kartun = ['spongebob','dora','baymax','doraemon','sinchan']"
   ]
  },
  {
   "cell_type": "code",
   "execution_count": null,
   "id": "d50e0e68",
   "metadata": {},
   "outputs": [],
   "source": [
    "print (kartun[4])"
   ]
  },
  {
   "cell_type": "code",
   "execution_count": null,
   "id": "09cac69c",
   "metadata": {},
   "outputs": [],
   "source": [
    "print (kartun[0:2])"
   ]
  },
  {
   "cell_type": "code",
   "execution_count": null,
   "id": "57bb464f",
   "metadata": {},
   "outputs": [],
   "source": [
    "print (kartun[-3])"
   ]
  },
  {
   "cell_type": "code",
   "execution_count": null,
   "id": "d6493a01",
   "metadata": {},
   "outputs": [],
   "source": [
    "nama = ['Bintang', 'Jojo', 'Deni']\n",
    "nama.append ('Acil')\n",
    "print (nama)"
   ]
  },
  {
   "cell_type": "code",
   "execution_count": null,
   "id": "61504796",
   "metadata": {},
   "outputs": [],
   "source": [
    "nama.insert(0, 'Dhita')\n",
    "print (nama)"
   ]
  },
  {
   "cell_type": "code",
   "execution_count": null,
   "id": "72e4a5aa",
   "metadata": {},
   "outputs": [],
   "source": [
    "nama.remove('Bintang')\n",
    "print (nama)"
   ]
  },
  {
   "cell_type": "code",
   "execution_count": null,
   "id": "2cf9a1ff",
   "metadata": {},
   "outputs": [],
   "source": [
    "print('Bintang' in nama)"
   ]
  },
  {
   "cell_type": "code",
   "execution_count": null,
   "id": "39274b5b",
   "metadata": {},
   "outputs": [],
   "source": [
    "print ('Deni' in nama)"
   ]
  },
  {
   "cell_type": "code",
   "execution_count": null,
   "id": "8b1b0917",
   "metadata": {},
   "outputs": [],
   "source": [
    "print (len(nama))"
   ]
  },
  {
   "cell_type": "code",
   "execution_count": null,
   "id": "0e1c492a",
   "metadata": {},
   "outputs": [],
   "source": [
    "buah = ['sirsak', 'mangga', 'melon', 'leci' ]\n",
    "for jenis in buah:\n",
    "    print (jenis)"
   ]
  },
  {
   "cell_type": "code",
   "execution_count": null,
   "id": "ea3b0ab6",
   "metadata": {},
   "outputs": [],
   "source": [
    "i = 0\n",
    "while i < len(buah):\n",
    "    print(buah[i])\n",
    "    i+=1"
   ]
  },
  {
   "cell_type": "code",
   "execution_count": null,
   "id": "de956e75",
   "metadata": {},
   "outputs": [],
   "source": [
    "angka = range(6)\n",
    "print(angka)"
   ]
  },
  {
   "cell_type": "code",
   "execution_count": null,
   "id": "27ebde31",
   "metadata": {},
   "outputs": [],
   "source": [
    "for isi in angka:\n",
    "    print(isi)"
   ]
  },
  {
   "cell_type": "code",
   "execution_count": null,
   "id": "937254bf",
   "metadata": {},
   "outputs": [],
   "source": [
    "for isi in range(5,10):\n",
    "    print(isi)"
   ]
  },
  {
   "cell_type": "code",
   "execution_count": null,
   "id": "6889fbd5",
   "metadata": {},
   "outputs": [],
   "source": [
    "for isi in range(12,21):\n",
    "    print(isi)"
   ]
  },
  {
   "cell_type": "code",
   "execution_count": null,
   "id": "09aeb84b",
   "metadata": {},
   "outputs": [],
   "source": [
    "for isi in range(0,10,2) :\n",
    "    print(isi)"
   ]
  },
  {
   "cell_type": "code",
   "execution_count": null,
   "id": "17fa6e94",
   "metadata": {},
   "outputs": [],
   "source": [
    "for isi in range(0,12,3) :\n",
    "    print(isi)"
   ]
  },
  {
   "cell_type": "code",
   "execution_count": null,
   "id": "b4c52172",
   "metadata": {},
   "outputs": [],
   "source": [
    "data = [1,2,3,4,5,4,3,2,1]\n",
    "terbesar = data[0]\n",
    "for i in range (len(data)):\n",
    "    if data[i] > terbesar:\n",
    "        terbesar = data[i]\n",
    "print(terbesar)"
   ]
  },
  {
   "cell_type": "code",
   "execution_count": null,
   "id": "51a1c767",
   "metadata": {},
   "outputs": [],
   "source": [
    "data = [7,9,3,5,8,12,18,28,14]\n",
    "terbesar = data[0]\n",
    "for i in range (len(data)):\n",
    "    if data[i] > terbesar:\n",
    "        terbesar = data[i]\n",
    "print(terbesar)"
   ]
  },
  {
   "cell_type": "code",
   "execution_count": null,
   "id": "35547416",
   "metadata": {},
   "outputs": [],
   "source": [
    "data = [1,2,3,4,5,4,3,2,1]\n",
    "terbesar = data[0]\n",
    "for angka in data :\n",
    "    if angka > terbesar :\n",
    "        terbesar = angka \n",
    "print(terbesar)"
   ]
  },
  {
   "cell_type": "code",
   "execution_count": null,
   "id": "53d74fa3",
   "metadata": {},
   "outputs": [],
   "source": [
    "data = [3,9,8,13,17,16,32,18,25]\n",
    "terbesar = data[0]\n",
    "for angka in data :\n",
    "    if angka > terbesar :\n",
    "        terbesar = angka \n",
    "print(terbesar)"
   ]
  },
  {
   "cell_type": "code",
   "execution_count": null,
   "id": "9c23ac3e",
   "metadata": {},
   "outputs": [],
   "source": [
    "angka = [1,2,3,4,5,6,3,4,5,7,8,7]\n",
    "angka_unik = []\n",
    "for anggota in angka :\n",
    "    if anggota not in angka_unik:\n",
    "        angka_unik.append(anggota)\n",
    "print (angka_unik)"
   ]
  },
  {
   "cell_type": "code",
   "execution_count": null,
   "id": "228f0029",
   "metadata": {},
   "outputs": [],
   "source": [
    "matrik = [\n",
    "[1,2,3,4],\n",
    "[5,6,7,8],\n",
    "[9,10,11,12],\n",
    "[13,14,15,16]\n",
    "]\n",
    "print(matrik)"
   ]
  },
  {
   "cell_type": "code",
   "execution_count": null,
   "id": "90e36f61",
   "metadata": {},
   "outputs": [],
   "source": [
    "matrik[1]"
   ]
  },
  {
   "cell_type": "code",
   "execution_count": null,
   "id": "9c8ab2ae",
   "metadata": {},
   "outputs": [],
   "source": [
    "matrik[3]"
   ]
  },
  {
   "cell_type": "code",
   "execution_count": null,
   "id": "9e125df9",
   "metadata": {},
   "outputs": [],
   "source": [
    "matrik[1][2]"
   ]
  },
  {
   "cell_type": "code",
   "execution_count": null,
   "id": "e78e0bac",
   "metadata": {},
   "outputs": [],
   "source": [
    "matrik[2][3]"
   ]
  },
  {
   "cell_type": "code",
   "execution_count": null,
   "id": "c2fe65c6",
   "metadata": {},
   "outputs": [],
   "source": [
    "matrik[3][1]"
   ]
  },
  {
   "cell_type": "code",
   "execution_count": null,
   "id": "cc38616c",
   "metadata": {},
   "outputs": [],
   "source": [
    "matrik[1][2] = 100\n",
    "print (matrik[1][2])"
   ]
  },
  {
   "cell_type": "code",
   "execution_count": null,
   "id": "4b94cce3",
   "metadata": {},
   "outputs": [],
   "source": [
    "matrik"
   ]
  },
  {
   "cell_type": "code",
   "execution_count": null,
   "id": "79888240",
   "metadata": {},
   "outputs": [],
   "source": [
    "for baris in matrik :\n",
    "    print(baris)\n",
    "for kolom in baris :\n",
    "    print(kolom)"
   ]
  },
  {
   "cell_type": "code",
   "execution_count": null,
   "id": "82ec6578",
   "metadata": {},
   "outputs": [],
   "source": [
    "angka = (0,1,1,3,4,5)"
   ]
  },
  {
   "cell_type": "code",
   "execution_count": null,
   "id": "282409c3",
   "metadata": {},
   "outputs": [],
   "source": [
    "print (angka[0])"
   ]
  },
  {
   "cell_type": "code",
   "execution_count": null,
   "id": "38bf29ad",
   "metadata": {},
   "outputs": [],
   "source": [
    "print (angka[0:3])"
   ]
  },
  {
   "cell_type": "code",
   "execution_count": null,
   "id": "e2d90758",
   "metadata": {},
   "outputs": [],
   "source": [
    "for isi in angka[0:3] :\n",
    "    print(isi)"
   ]
  },
  {
   "cell_type": "code",
   "execution_count": null,
   "id": "0bb9ee46",
   "metadata": {},
   "outputs": [],
   "source": [
    "angka.count(1)"
   ]
  },
  {
   "cell_type": "code",
   "execution_count": null,
   "id": "34c36a5e",
   "metadata": {},
   "outputs": [],
   "source": [
    "angka.index(3)"
   ]
  },
  {
   "cell_type": "code",
   "execution_count": null,
   "id": "6945662c",
   "metadata": {},
   "outputs": [],
   "source": [
    "data_orang = {\n",
    "\"nama\" : 'Stefani Putri',\n",
    "\"usia\" : 18,\n",
    "\"apakah_singel\" : False\n",
    "}"
   ]
  },
  {
   "cell_type": "code",
   "execution_count": null,
   "id": "17143581",
   "metadata": {},
   "outputs": [],
   "source": [
    "print(data_orang['nama'])"
   ]
  },
  {
   "cell_type": "code",
   "execution_count": null,
   "id": "537458fe",
   "metadata": {},
   "outputs": [],
   "source": [
    "print (data_orang['Nama'])"
   ]
  },
  {
   "cell_type": "code",
   "execution_count": null,
   "id": "9426453f",
   "metadata": {},
   "outputs": [],
   "source": [
    "print(data_orang.get('nama'))"
   ]
  },
  {
   "cell_type": "code",
   "execution_count": null,
   "id": "04c721f3",
   "metadata": {},
   "outputs": [],
   "source": [
    "print(data_orang.get('Nama'))"
   ]
  },
  {
   "cell_type": "code",
   "execution_count": null,
   "id": "99de5bf7",
   "metadata": {},
   "outputs": [],
   "source": [
    "print (data_orang.get('tanggal_lahir'))"
   ]
  },
  {
   "cell_type": "code",
   "execution_count": null,
   "id": "ddf58bce",
   "metadata": {},
   "outputs": [],
   "source": [
    "print(data_orang.get('tanggal_lahir', '12-08-2003'))"
   ]
  },
  {
   "cell_type": "code",
   "execution_count": null,
   "id": "501056d9",
   "metadata": {},
   "outputs": [],
   "source": [
    "print(data_orang)"
   ]
  },
  {
   "cell_type": "code",
   "execution_count": null,
   "id": "1d09555c",
   "metadata": {},
   "outputs": [],
   "source": [
    "data_orang['HP'] = '085959699365'"
   ]
  },
  {
   "cell_type": "code",
   "execution_count": null,
   "id": "d1fe977d",
   "metadata": {},
   "outputs": [],
   "source": [
    "print (data_orang[\"HP\"])"
   ]
  },
  {
   "cell_type": "code",
   "execution_count": null,
   "id": "c3aa5ac0",
   "metadata": {},
   "outputs": [],
   "source": [
    "print(data_orang)"
   ]
  },
  {
   "cell_type": "code",
   "execution_count": null,
   "id": "d20e2941",
   "metadata": {},
   "outputs": [],
   "source": [
    "angka = {\n",
    "    \"0\" : \"nol\",\n",
    "    \"1\" : \"satu\",\n",
    "    \"2\" : \"dua\",\n",
    "    \"3\" : \"tiga\",\n",
    "    \"4\" : \"empat\",\n",
    "    \"5\" : \"lima\",\n",
    "    \"6\" : \"enam\",\n",
    "    \"7\" : \"tujuh\",\n",
    "    \"8\" : \"delapan\",\n",
    "    \"9\" : \"sembilan\"\n",
    "}"
   ]
  },
  {
   "cell_type": "code",
   "execution_count": null,
   "id": "275565d4",
   "metadata": {},
   "outputs": [],
   "source": [
    "nomor_HP = input (\"Masukkan nomor HP anda \")\n",
    "nomor_angka = \"\"\n",
    "for isi in nomor_HP:\n",
    "    nomor_angka += angka.get(isi) + \"\"\n",
    "    print (nomor_angka)"
   ]
  },
  {
   "cell_type": "code",
   "execution_count": null,
   "id": "56488e4c",
   "metadata": {},
   "outputs": [],
   "source": [
    "def full_name(first_name,last_name): \n",
    "    print(f\"Nama lengkapnya adalah {first_name}{last_name}\")"
   ]
  },
  {
   "cell_type": "code",
   "execution_count": null,
   "id": "44476a77",
   "metadata": {},
   "outputs": [],
   "source": [
    "first_name = input(\"Nama depan anda adalah \") \n",
    "last_name = input(\"Nama belakang anda adalah \") \n",
    "full_name(first_name, last_name) "
   ]
  },
  {
   "cell_type": "code",
   "execution_count": null,
   "id": "79c27059",
   "metadata": {},
   "outputs": [],
   "source": [
    "def waktu_sampai(jarak,kecepatan): \n",
    "    waktu = jarak/kecepatan \n",
    "    print(waktu)"
   ]
  },
  {
   "cell_type": "code",
   "execution_count": null,
   "id": "377bcd85",
   "metadata": {},
   "outputs": [],
   "source": [
    "def waktu_tempuh(jarak,kecepatan):\n",
    "    waktu = jarak/kecepatan\n",
    "    return waktu"
   ]
  },
  {
   "cell_type": "code",
   "execution_count": null,
   "id": "7bbad681",
   "metadata": {},
   "outputs": [],
   "source": [
    "waktu_sampai(80,60)"
   ]
  },
  {
   "cell_type": "code",
   "execution_count": null,
   "id": "ab84d4b9",
   "metadata": {},
   "outputs": [],
   "source": [
    "waktu_tempuh(80,60)"
   ]
  },
  {
   "cell_type": "code",
   "execution_count": null,
   "id": "7f709534",
   "metadata": {},
   "outputs": [],
   "source": [
    "a = waktu_sampai(80,60)\n",
    "print(a)"
   ]
  },
  {
   "cell_type": "code",
   "execution_count": null,
   "id": "4438b3ec",
   "metadata": {},
   "outputs": [],
   "source": [
    "b = waktu_tempuh(80,60)\n",
    "print(b)"
   ]
  },
  {
   "cell_type": "code",
   "execution_count": null,
   "id": "3dd8a3b5",
   "metadata": {},
   "outputs": [],
   "source": [
    "import numpy as np"
   ]
  },
  {
   "cell_type": "code",
   "execution_count": null,
   "id": "6ea76fed",
   "metadata": {},
   "outputs": [],
   "source": [
    "def luas_segitiga(alas,tinggi):\n",
    "    luas = (1/2)*alas*tinggi\n",
    "    return luas\n",
    "def luas_lingkaran(jari_jari):\n",
    "    luas = np.pi*(jari_jari**2)\n",
    "    return luas\n",
    "def luas_persegi(sisi):\n",
    "    luas = sisi**2\n",
    "    return luas\n",
    "def luas_persegi_panjang(panjang,lebar):\n",
    "    luas = panjang*lebar\n",
    "    return luas"
   ]
  },
  {
   "cell_type": "code",
   "execution_count": null,
   "id": "17d4621c",
   "metadata": {},
   "outputs": [],
   "source": [
    "jenis_bidang = input(\"Tulis jenis bidangnya \") \n",
    "if jenis_bidang.upper() == 'SEGITIGA':\n",
    "    alas = float(input('Berapakah panjang alasnya?')) \n",
    "    tinggi = float(input('Berapakah tingginya? ')) \n",
    "    luas = luas_segitiga(alas,tinggi) \n",
    "    print(f\"Luas {jenis_bidang} adalah {luas}\") \n",
    "elif jenis_bidang.upper() == 'LINGKARAN': \n",
    "    jari_jari = float(input('Berapakah panjang jari_jarinya? ')) \n",
    "    luas = luas_lingkaran(jari_jari) \n",
    "    print(f\"Luas {jenis_bidang} adalah {luas}\") \n",
    "elif (jenis_bidang.upper() == 'PERSEGI') or (jenis_bidang.upper() == 'BUJUR SANGKAR'): \n",
    "    sisi = float(input('Berapakah panjang sisinya?')) \n",
    "    luas = luas_persegi(sisi) \n",
    "    print(f\"Luas {jenis_bidang} adalah {luas}\")\n",
    "elif jenis_bidang.upper() == 'PERSEGI PANJANG': \n",
    "    panjang = float(input('Berapakah panjangnya?')) \n",
    "    lebar = float(input('Berapakh lebarnya?')) \n",
    "    luas =luas_persegi_panjang(panjang,lebar) \n",
    "    print(f\" Luas {jenis_bidang} adalah {luas}\") \n",
    "else: \n",
    "    print(f\" Maaf bidang {jenis_bidang} yang anda masukkan tidak ada.\") \n",
    "    print(\"Pilihan cuma SEGITUGA,LINGKARAN, PERSEGI dan PERSEGI PANJANG.\") \n",
    "    print('Terimakasih') "
   ]
  }
 ],
 "metadata": {
  "kernelspec": {
   "display_name": "Python 3 (ipykernel)",
   "language": "python",
   "name": "python3"
  },
  "language_info": {
   "codemirror_mode": {
    "name": "ipython",
    "version": 3
   },
   "file_extension": ".py",
   "mimetype": "text/x-python",
   "name": "python",
   "nbconvert_exporter": "python",
   "pygments_lexer": "ipython3",
   "version": "3.9.7"
  }
 },
 "nbformat": 4,
 "nbformat_minor": 5
}
