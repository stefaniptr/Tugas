{
 "cells": [
  {
   "cell_type": "code",
   "execution_count": 2,
   "id": "539a884a",
   "metadata": {},
   "outputs": [
    {
     "name": "stdout",
     "output_type": "stream",
     "text": [
      "Halo saya Stefani!\n"
     ]
    }
   ],
   "source": [
    "print('Halo saya Stefani!') "
   ]
  },
  {
   "cell_type": "code",
   "execution_count": 3,
   "id": "264405c6",
   "metadata": {},
   "outputs": [
    {
     "name": "stdout",
     "output_type": "stream",
     "text": [
      "Halo saya Stefani!\n"
     ]
    }
   ],
   "source": [
    "print(\"Halo saya Stefani!\")  "
   ]
  },
  {
   "cell_type": "code",
   "execution_count": 5,
   "id": "fe1fe709",
   "metadata": {},
   "outputs": [
    {
     "name": "stdout",
     "output_type": "stream",
     "text": [
      "I don’t understand what are you saying\n"
     ]
    }
   ],
   "source": [
    "print(\"I don’t understand what are you saying\") "
   ]
  },
  {
   "cell_type": "code",
   "execution_count": 6,
   "id": "30fa47f3",
   "metadata": {},
   "outputs": [
    {
     "name": "stdout",
     "output_type": "stream",
     "text": [
      "I dont understand what are you saying\n"
     ]
    }
   ],
   "source": [
    "print('I dont understand what are you saying')"
   ]
  },
  {
   "cell_type": "code",
   "execution_count": 8,
   "id": "9815aab3",
   "metadata": {},
   "outputs": [
    {
     "name": "stdout",
     "output_type": "stream",
     "text": [
      "Ryan is such a \"GENIUS\"\n"
     ]
    }
   ],
   "source": [
    "print('Ryan is such a \"GENIUS\"') "
   ]
  },
  {
   "cell_type": "code",
   "execution_count": 9,
   "id": "6657cb08",
   "metadata": {},
   "outputs": [
    {
     "name": "stdout",
     "output_type": "stream",
     "text": [
      "Ryan is such a GENIUS\n"
     ]
    }
   ],
   "source": [
    "print(\"Ryan is such a GENIUS\") "
   ]
  },
  {
   "cell_type": "code",
   "execution_count": 11,
   "id": "d4c24e63",
   "metadata": {},
   "outputs": [
    {
     "name": "stdout",
     "output_type": "stream",
     "text": [
      "29\n",
      "543000\n",
      "15747000\n"
     ]
    }
   ],
   "source": [
    "mahasiswa = 29\n",
    "uang_di_dompet=543000\n",
    "print (mahasiswa)\n",
    "print (uang_di_dompet)\n",
    "print (mahasiswa*uang_di_dompet)"
   ]
  },
  {
   "cell_type": "code",
   "execution_count": 27,
   "id": "3b94c522",
   "metadata": {},
   "outputs": [
    {
     "name": "stdout",
     "output_type": "stream",
     "text": [
      "StefaniPutriWulandari\n"
     ]
    }
   ],
   "source": [
    "nama_depan = 'Stefani'\n",
    "nama_tengah = 'Putri'\n",
    "nama_belakang= 'Wulandari'\n",
    "print(nama_depan + nama_tengah + nama_belakang)   "
   ]
  },
  {
   "cell_type": "code",
   "execution_count": 39,
   "id": "2208c6c0",
   "metadata": {},
   "outputs": [
    {
     "name": "stdout",
     "output_type": "stream",
     "text": [
      "Siapakah nama anda? Stefani\n",
      "Apakah kegiatan anda sekarang, Stefani?Makan\n",
      "Semangat Makan nya yah,Stefani!\n"
     ]
    }
   ],
   "source": [
    "nama = input(\"Siapakah nama anda? \")\n",
    "kegiatan = input('Apakah kegiatan anda sekarang, ' + nama +\"?\")\n",
    "print(\"Semangat \"+ kegiatan +\" nya yah,\" + nama + \"!\")   "
   ]
  },
  {
   "cell_type": "code",
   "execution_count": 42,
   "id": "53b20108",
   "metadata": {},
   "outputs": [
    {
     "name": "stdout",
     "output_type": "stream",
     "text": [
      "Berapakah jumlah uang di dompet anda?500000\n",
      "Berapakah jumlah uang anda di Bank?2000000\n",
      "Total uang anda adalah Rp5000002000000\n"
     ]
    }
   ],
   "source": [
    "uang_di_dompet = input (\"Berapakah jumlah uang di dompet anda?\")\n",
    "uang_di_bank = input (\"Berapakah jumlah uang anda di Bank?\")\n",
    "print (\"Total uang anda adalah Rp\" + uang_di_dompet + uang_di_bank) "
   ]
  },
  {
   "cell_type": "code",
   "execution_count": 45,
   "id": "8437f1e4",
   "metadata": {},
   "outputs": [
    {
     "name": "stdout",
     "output_type": "stream",
     "text": [
      "Berapakah jumlah uang di dompet anda? 500000\n",
      "Berapakah jumlah uang anda di Bank? 2000000\n",
      "Total uang milik anda adalah Rp 2500000\n"
     ]
    }
   ],
   "source": [
    "uang_di_dompet = input (\"Berapakah jumlah uang di dompet anda? \") \n",
    "uang_di_bank = input (\"Berapakah jumlah uang anda di Bank? \") \n",
    "total_uang = int(uang_di_dompet) + int(uang_di_bank) \n",
    "print(\"Total uang milik anda adalah Rp \"+ str(total_uang)) "
   ]
  },
  {
   "cell_type": "code",
   "execution_count": 46,
   "id": "d3121418",
   "metadata": {},
   "outputs": [
    {
     "data": {
      "text/plain": [
       "str"
      ]
     },
     "execution_count": 46,
     "metadata": {},
     "output_type": "execute_result"
    }
   ],
   "source": [
    "type(uang_di_dompet)"
   ]
  },
  {
   "cell_type": "code",
   "execution_count": 47,
   "id": "9885f17f",
   "metadata": {},
   "outputs": [
    {
     "data": {
      "text/plain": [
       "str"
      ]
     },
     "execution_count": 47,
     "metadata": {},
     "output_type": "execute_result"
    }
   ],
   "source": [
    "type(uang_di_bank)"
   ]
  },
  {
   "cell_type": "code",
   "execution_count": 48,
   "id": "7181721c",
   "metadata": {},
   "outputs": [
    {
     "data": {
      "text/plain": [
       "int"
      ]
     },
     "execution_count": 48,
     "metadata": {},
     "output_type": "execute_result"
    }
   ],
   "source": [
    "type(total_uang)"
   ]
  },
  {
   "cell_type": "code",
   "execution_count": 50,
   "id": "3c3ae1b0",
   "metadata": {},
   "outputs": [
    {
     "name": "stdout",
     "output_type": "stream",
     "text": [
      "Masukkan bilangan pertama : 21\n",
      "Masukkan bilangan kedua : 29\n",
      "Jumlah kedua bilangan adalah 50.0\n"
     ]
    }
   ],
   "source": [
    "bilangan_satu = input (\"Masukkan bilangan pertama : \")\n",
    "bilangan_kedua = input (\"Masukkan bilangan kedua : \")\n",
    "jumlah = float (bilangan_satu) + float (bilangan_kedua)\n",
    "print (\"Jumlah kedua bilangan adalah \"+ str(jumlah))"
   ]
  },
  {
   "cell_type": "code",
   "execution_count": 53,
   "id": "b170adbf",
   "metadata": {},
   "outputs": [
    {
     "name": "stdout",
     "output_type": "stream",
     "text": [
      "Stefani adalah seorang mahasiswa di Universitas Udayana.\n"
     ]
    }
   ],
   "source": [
    "nama = \"Stefani\"\n",
    "pekerjaan= \"mahasiswa\"\n",
    "institusi= \"Universitas Udayana\"\n",
    "print (nama + ' adalah seorang ' + pekerjaan + ' di ' + institusi +'.') "
   ]
  },
  {
   "cell_type": "code",
   "execution_count": 54,
   "id": "e1eb3752",
   "metadata": {},
   "outputs": [
    {
     "name": "stdout",
     "output_type": "stream",
     "text": [
      "Stefani adalah seorang mahasiswa di Universitas Udayana.\n"
     ]
    }
   ],
   "source": [
    "print (f'{nama} adalah seorang {pekerjaan} di {institusi}.')"
   ]
  },
  {
   "cell_type": "code",
   "execution_count": 55,
   "id": "ce6aafbf",
   "metadata": {},
   "outputs": [
    {
     "name": "stdout",
     "output_type": "stream",
     "text": [
      "Stefani adalah seorang mahasiswa di Universitas Udayana.\n"
     ]
    }
   ],
   "source": [
    "print (f\"{nama} adalah seorang {pekerjaan} di {institusi}.\") "
   ]
  },
  {
   "cell_type": "code",
   "execution_count": 66,
   "id": "0b05c8f8",
   "metadata": {},
   "outputs": [],
   "source": [
    "kelas = 'Jepang sangat indah'"
   ]
  },
  {
   "cell_type": "code",
   "execution_count": 67,
   "id": "5d289e86",
   "metadata": {},
   "outputs": [
    {
     "name": "stdout",
     "output_type": "stream",
     "text": [
      "Jep\n"
     ]
    }
   ],
   "source": [
    "print(kelas[0:3]) "
   ]
  },
  {
   "cell_type": "code",
   "execution_count": 68,
   "id": "ad55e6f8",
   "metadata": {},
   "outputs": [
    {
     "name": "stdout",
     "output_type": "stream",
     "text": [
      "ang sangat inda\n"
     ]
    }
   ],
   "source": [
    "print(kelas[3:-1])"
   ]
  },
  {
   "cell_type": "code",
   "execution_count": 69,
   "id": "c2f7b06f",
   "metadata": {},
   "outputs": [
    {
     "name": "stdout",
     "output_type": "stream",
     "text": [
      "Jepang sangat i\n"
     ]
    }
   ],
   "source": [
    "print(kelas[0:-4]) "
   ]
  },
  {
   "cell_type": "code",
   "execution_count": 70,
   "id": "659e9ccb",
   "metadata": {},
   "outputs": [
    {
     "name": "stdout",
     "output_type": "stream",
     "text": [
      "e ad\n"
     ]
    }
   ],
   "source": [
    "print (kelas[1:-1:5])"
   ]
  },
  {
   "cell_type": "code",
   "execution_count": 71,
   "id": "7083c961",
   "metadata": {},
   "outputs": [
    {
     "name": "stdout",
     "output_type": "stream",
     "text": [
      "Jepang sangat ind\n"
     ]
    }
   ],
   "source": [
    "print(kelas[ :-2])"
   ]
  },
  {
   "cell_type": "code",
   "execution_count": 72,
   "id": "81eedcfb",
   "metadata": {},
   "outputs": [
    {
     "name": "stdout",
     "output_type": "stream",
     "text": [
      "pang sangat indah\n"
     ]
    }
   ],
   "source": [
    "print(kelas[2:])"
   ]
  },
  {
   "cell_type": "code",
   "execution_count": 73,
   "id": "4b8812f4",
   "metadata": {},
   "outputs": [
    {
     "name": "stdout",
     "output_type": "stream",
     "text": [
      "Jepang sangat indah\n"
     ]
    }
   ],
   "source": [
    "print(kelas[:])"
   ]
  },
  {
   "cell_type": "code",
   "execution_count": 74,
   "id": "15c0601e",
   "metadata": {},
   "outputs": [],
   "source": [
    "judul = 'Aku Dipanggil Acil'"
   ]
  },
  {
   "cell_type": "code",
   "execution_count": 75,
   "id": "67db3a3a",
   "metadata": {},
   "outputs": [
    {
     "name": "stdout",
     "output_type": "stream",
     "text": [
      "18\n"
     ]
    }
   ],
   "source": [
    "print(len(judul))"
   ]
  },
  {
   "cell_type": "code",
   "execution_count": 76,
   "id": "273f7d36",
   "metadata": {},
   "outputs": [
    {
     "data": {
      "text/plain": [
       "'AKU DIPANGGIL ACIL'"
      ]
     },
     "execution_count": 76,
     "metadata": {},
     "output_type": "execute_result"
    }
   ],
   "source": [
    "judul.upper()"
   ]
  },
  {
   "cell_type": "code",
   "execution_count": 77,
   "id": "5e39d3dc",
   "metadata": {},
   "outputs": [
    {
     "data": {
      "text/plain": [
       "'aku dipanggil acil'"
      ]
     },
     "execution_count": 77,
     "metadata": {},
     "output_type": "execute_result"
    }
   ],
   "source": [
    "judul.lower()"
   ]
  },
  {
   "cell_type": "code",
   "execution_count": 78,
   "id": "f51b7e27",
   "metadata": {},
   "outputs": [
    {
     "data": {
      "text/plain": [
       "-1"
      ]
     },
     "execution_count": 78,
     "metadata": {},
     "output_type": "execute_result"
    }
   ],
   "source": [
    "judul.find(\"aku\") "
   ]
  },
  {
   "cell_type": "code",
   "execution_count": 80,
   "id": "a0bec269",
   "metadata": {},
   "outputs": [
    {
     "data": {
      "text/plain": [
       "14"
      ]
     },
     "execution_count": 80,
     "metadata": {},
     "output_type": "execute_result"
    }
   ],
   "source": [
    "judul.find('Acil') "
   ]
  },
  {
   "cell_type": "code",
   "execution_count": 82,
   "id": "c807ead5",
   "metadata": {},
   "outputs": [
    {
     "data": {
      "text/plain": [
       "'Aku Dipanggil Cantik'"
      ]
     },
     "execution_count": 82,
     "metadata": {},
     "output_type": "execute_result"
    }
   ],
   "source": [
    "judul.replace('Acil', 'Cantik') "
   ]
  },
  {
   "cell_type": "code",
   "execution_count": 83,
   "id": "46a331e1",
   "metadata": {},
   "outputs": [
    {
     "data": {
      "text/plain": [
       "'Aku Dipanggil Acil'"
      ]
     },
     "execution_count": 83,
     "metadata": {},
     "output_type": "execute_result"
    }
   ],
   "source": [
    "judul.replace('acil', 'cantik') "
   ]
  },
  {
   "cell_type": "code",
   "execution_count": 84,
   "id": "57937f77",
   "metadata": {},
   "outputs": [
    {
     "name": "stdout",
     "output_type": "stream",
     "text": [
      "True\n"
     ]
    }
   ],
   "source": [
    "print ('Acil' in judul)"
   ]
  },
  {
   "cell_type": "code",
   "execution_count": 86,
   "id": "bd570475",
   "metadata": {},
   "outputs": [
    {
     "name": "stdout",
     "output_type": "stream",
     "text": [
      "False\n"
     ]
    }
   ],
   "source": [
    "print('acil' in judul)"
   ]
  },
  {
   "cell_type": "code",
   "execution_count": 88,
   "id": "de783ebb",
   "metadata": {},
   "outputs": [
    {
     "name": "stdout",
     "output_type": "stream",
     "text": [
      "5\n",
      "-1\n",
      "6\n",
      "2.3333333333333335\n",
      "2\n",
      "1\n",
      "8\n",
      "4\n",
      "2\n",
      "6\n"
     ]
    }
   ],
   "source": [
    "print (2+3)\n",
    "print (2-3)\n",
    "print (2*3)\n",
    "print(7/3)\n",
    "print (7//3)\n",
    "print (7%3)\n",
    "print (2**3)\n",
    "x=3\n",
    "x+=1\n",
    "print (x)\n",
    "x-=2\n",
    "print(x)\n",
    "x*=3\n",
    "print (x)"
   ]
  },
  {
   "cell_type": "code",
   "execution_count": 89,
   "id": "24687e27",
   "metadata": {},
   "outputs": [
    {
     "name": "stdout",
     "output_type": "stream",
     "text": [
      "True\n",
      "True\n",
      "True\n",
      "True\n",
      "True\n",
      "True\n"
     ]
    }
   ],
   "source": [
    "x = 4>3\n",
    "print(x)\n",
    "x = 2<3\n",
    "print (x)\n",
    "x = 7 >= 5\n",
    "print(x)\n",
    "x = 2 <= 4\n",
    "print (x)\n",
    "x = 3 == 3\n",
    "print(x)\n",
    "x = 2 !=4\n",
    "print(x)"
   ]
  },
  {
   "cell_type": "code",
   "execution_count": 90,
   "id": "be59a8c1",
   "metadata": {},
   "outputs": [
    {
     "name": "stdout",
     "output_type": "stream",
     "text": [
      "False\n",
      "False\n",
      "False\n",
      "False\n",
      "False\n",
      "False\n"
     ]
    }
   ],
   "source": [
    "x = 5>8\n",
    "print(x)\n",
    "x = 10<8\n",
    "print (x)\n",
    "x = 6 >= 9\n",
    "print(x)\n",
    "x = 5 <= 3\n",
    "print (x)\n",
    "x = 3 == 6\n",
    "print(x)\n",
    "x = 6 !=6\n",
    "print(x)"
   ]
  },
  {
   "cell_type": "code",
   "execution_count": 91,
   "id": "65a4ca2c",
   "metadata": {},
   "outputs": [
    {
     "name": "stdout",
     "output_type": "stream",
     "text": [
      "True\n"
     ]
    }
   ],
   "source": [
    "buah_sirsak = 10\n",
    "buah_durian = 15\n",
    "print (buah_sirsak > 8 and buah_durian < 20)"
   ]
  },
  {
   "cell_type": "code",
   "execution_count": 92,
   "id": "f6112d5b",
   "metadata": {},
   "outputs": [
    {
     "name": "stdout",
     "output_type": "stream",
     "text": [
      "True\n"
     ]
    }
   ],
   "source": [
    "print (buah_sirsak < 8 or buah_durian < 20)"
   ]
  },
  {
   "cell_type": "code",
   "execution_count": 93,
   "id": "40a5cce1",
   "metadata": {},
   "outputs": [
    {
     "name": "stdout",
     "output_type": "stream",
     "text": [
      "False\n"
     ]
    }
   ],
   "source": [
    "print (buah_sirsak < 8 or buah_durian > 20)"
   ]
  },
  {
   "cell_type": "code",
   "execution_count": 98,
   "id": "769bd9a1",
   "metadata": {},
   "outputs": [
    {
     "name": "stdout",
     "output_type": "stream",
     "text": [
      "True\n"
     ]
    }
   ],
   "source": [
    "print(not (buah_sirsak < 8 or buah_durian > 20)) "
   ]
  },
  {
   "cell_type": "code",
   "execution_count": 100,
   "id": "8063457d",
   "metadata": {},
   "outputs": [
    {
     "name": "stdout",
     "output_type": "stream",
     "text": [
      "Nilai anda adalah97\n",
      "Anda mendapatkan nilai A\n",
      "Bagus sekali, selamat!\n"
     ]
    }
   ],
   "source": [
    "nilai= float (input (\"Nilai anda adalah\")) \n",
    "if nilai >= 80:\n",
    "    print (\"Anda mendapatkan nilai A\")\n",
    "    print (\"Bagus sekali, selamat!\")\n",
    "if nilai < 80 and nilai >= 70:\n",
    "    print (\"Anda mendapatkan nilai B\")\n",
    "    print (\"Tingkatkan prestasimu!\")\n",
    "if nilai >= 60 and nilai < 70:\n",
    "    print (\"Anda mendapatkan nilai C\")\n",
    "    print (\"Lain kali musti lebih baik\")\n",
    "if nilai >= 50 and nilai < 60:\n",
    "    print (\"Anda mendapatkan nilai D\")\n",
    "    print (\"Ulang lagi tahun depan\")\n",
    "if nilai < 50:\n",
    "    print (\"Anda mendapatkan nilai E\")\n",
    "    print (\"Sampai jumpa tahun depan\") "
   ]
  },
  {
   "cell_type": "code",
   "execution_count": 102,
   "id": "7df6f95e",
   "metadata": {},
   "outputs": [
    {
     "name": "stdout",
     "output_type": "stream",
     "text": [
      "Nilai anda adalah 78\n",
      "Anda mendapatkan nilai B\n",
      "Tingkatkan prestasimu!\n"
     ]
    }
   ],
   "source": [
    "nilai = float (input (\"Nilai anda adalah \")) \n",
    "if nilai >= 80:\n",
    "    print (\"Anda mendapatkan nilai A\")\n",
    "    print (\"Bagus sekali, selamat!\")\n",
    "elif nilai >= 70:\n",
    "    print(\"Anda mendapatkan nilai B\")\n",
    "    print(\"Tingkatkan prestasimu!\")\n",
    "elif nilai >= 60:\n",
    "    print(\"Anda mendapatkan nilai C\")\n",
    "    print(\"Lain kali musti lebih baik\")\n",
    "elif nilai >= 50:\n",
    "    print(\"Anda mendapatkan nilai D\")\n",
    "    print (\"lang lagi tahun depan\")\n",
    "else:\n",
    "    print (\"Anda mendapatkan nilai E\")\n",
    "    print (\"Sampai jumpa tahun depan\")"
   ]
  },
  {
   "cell_type": "code",
   "execution_count": 109,
   "id": "968ab94c",
   "metadata": {},
   "outputs": [
    {
     "name": "stdout",
     "output_type": "stream",
     "text": [
      "Berapakah tinggi anda?150\n",
      "Tingginya dalam cm atau inci?CM\n",
      "Tinggi anda adalah 59.055150000000005 inci\n",
      "Tinggi anda adalah 59.055150000000005 cm\n"
     ]
    }
   ],
   "source": [
    "tinggi = float(input (\"Berapakah tinggi anda?\"))\n",
    "cm_atau_inci = input (\"Tingginya dalam cm atau inci?\")\n",
    "                      \n",
    "if cm_atau_inci.upper() == 'CM':\n",
    "    tinggi = tinggi*0.393701\n",
    "    print (\"Tinggi anda adalah \"+ str(tinggi) + \" inci\")\n",
    "elif cm_atau_inci.upper() == 'INCI':\n",
    "    tinggi = tinggi/0.393701\n",
    "print (f\"Tinggi anda adalah {tinggi} cm\") "
   ]
  },
  {
   "cell_type": "code",
   "execution_count": 110,
   "id": "9cd24f90",
   "metadata": {},
   "outputs": [
    {
     "name": "stdout",
     "output_type": "stream",
     "text": [
      "Berapakah tinggi anda?59\n",
      "Tingginya dalam cm atau inci?INCI\n",
      "Tinggi anda adalah 149.8599190756437 cm\n"
     ]
    }
   ],
   "source": [
    "tinggi = float(input (\"Berapakah tinggi anda?\"))\n",
    "cm_atau_inci = input (\"Tingginya dalam cm atau inci?\")\n",
    "                      \n",
    "if cm_atau_inci.upper() == 'CM':\n",
    "    tinggi = tinggi*0.393701\n",
    "    print (\"Tinggi anda adalah \"+ str(tinggi) + \" inci\")\n",
    "elif cm_atau_inci.upper() == 'INCI':\n",
    "    tinggi = tinggi/0.393701\n",
    "print (f\"Tinggi anda adalah {tinggi} cm\") "
   ]
  },
  {
   "cell_type": "code",
   "execution_count": 4,
   "id": "d3ecc225",
   "metadata": {},
   "outputs": [
    {
     "name": "stdout",
     "output_type": "stream",
     "text": [
      "Angka 0 masih dibawah 7\n",
      "Angka 1 masih dibawah 7\n",
      "Angka 2 masih dibawah 7\n",
      "Angka 3 masih dibawah 7\n",
      "Angka 4 masih dibawah 7\n",
      "Angka 5 masih dibawah 7\n",
      "Angka 6 masih dibawah 7\n"
     ]
    }
   ],
   "source": [
    "a = 0\n",
    "while a < 7:\n",
    "    print(\"Angka \" + str(a)+\" masih dibawah 7\") \n",
    "    a += 1 "
   ]
  },
  {
   "cell_type": "code",
   "execution_count": 2,
   "id": "41ad9253",
   "metadata": {},
   "outputs": [
    {
     "name": "stdout",
     "output_type": "stream",
     "text": [
      "\n",
      "*\n",
      "**\n",
      "***\n",
      "****\n",
      "*****\n"
     ]
    }
   ],
   "source": [
    "a = 0\n",
    "while a < 6:\n",
    "    print(a*'*') \n",
    "    a +=1"
   ]
  },
  {
   "cell_type": "code",
   "execution_count": null,
   "id": "96dfe163",
   "metadata": {},
   "outputs": [],
   "source": []
  },
  {
   "cell_type": "code",
   "execution_count": null,
   "id": "91dd1017",
   "metadata": {},
   "outputs": [],
   "source": []
  },
  {
   "cell_type": "code",
   "execution_count": null,
   "id": "3287bd7c",
   "metadata": {},
   "outputs": [],
   "source": []
  },
  {
   "cell_type": "code",
   "execution_count": null,
   "id": "bc3ea433",
   "metadata": {},
   "outputs": [],
   "source": []
  },
  {
   "cell_type": "code",
   "execution_count": null,
   "id": "a0927b75",
   "metadata": {},
   "outputs": [],
   "source": []
  },
  {
   "cell_type": "code",
   "execution_count": null,
   "id": "8bdca6cd",
   "metadata": {},
   "outputs": [],
   "source": []
  },
  {
   "cell_type": "code",
   "execution_count": null,
   "id": "3816f25b",
   "metadata": {},
   "outputs": [],
   "source": []
  }
 ],
 "metadata": {
  "kernelspec": {
   "display_name": "Python 3 (ipykernel)",
   "language": "python",
   "name": "python3"
  },
  "language_info": {
   "codemirror_mode": {
    "name": "ipython",
    "version": 3
   },
   "file_extension": ".py",
   "mimetype": "text/x-python",
   "name": "python",
   "nbconvert_exporter": "python",
   "pygments_lexer": "ipython3",
   "version": "3.9.7"
  }
 },
 "nbformat": 4,
 "nbformat_minor": 5
}
